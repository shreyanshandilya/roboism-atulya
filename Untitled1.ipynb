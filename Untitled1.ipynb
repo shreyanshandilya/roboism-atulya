{
 "cells": [
  {
   "cell_type": "code",
   "execution_count": 28,
   "id": "9479710a",
   "metadata": {},
   "outputs": [
    {
     "name": "stdout",
     "output_type": "stream",
     "text": [
      "7 8 9 10\n",
      "asc\n"
     ]
    },
    {
     "data": {
      "text/plain": [
       "[7, 8, 9, 10]"
      ]
     },
     "execution_count": 28,
     "metadata": {},
     "output_type": "execute_result"
    }
   ],
   "source": [
    "a = list(map(int,input().split(\" \")))\n",
    "string = input()\n",
    "def name(a,string):\n",
    "    if string == \"asc\":\n",
    "        a.sort()\n",
    "        return a\n",
    "    elif string == \"desc\":\n",
    "        a.sort(reverse=True)\n",
    "        return a\n",
    "    elif string == \"none\":\n",
    "        return a\n",
    "print(name(a,string))"
   ]
  },
  {
   "cell_type": "code",
   "execution_count": 6,
   "id": "f155bd74",
   "metadata": {},
   "outputs": [
    {
     "name": "stdout",
     "output_type": "stream",
     "text": [
      "78907890\n",
      "****7890"
     ]
    }
   ],
   "source": [
    "a = input()\n",
    "\n",
    "def credit_card(a):\n",
    "    b = len(a)\n",
    "    q = []\n",
    "    for i in range(0,b-4):\n",
    "        q.append(\"*\")\n",
    "    for i in range(b-4,b):\n",
    "        q.append(a[i])\n",
    "    for j in q:\n",
    "        print(j, end=\"\")\n",
    "        \n",
    "credit_card(a)"
   ]
  },
  {
   "cell_type": "code",
   "execution_count": 8,
   "id": "a02387e1",
   "metadata": {},
   "outputs": [
    {
     "name": "stdout",
     "output_type": "stream",
     "text": [
      "2\n",
      "+\n",
      "2\n",
      "4\n"
     ]
    }
   ],
   "source": [
    "num1 = int(input())\n",
    "operator = input()\n",
    "num2 = int(input())\n",
    "def mathematics(num1,operator,num2):\n",
    "    if operator == \"+\":\n",
    "        return num1+num2\n",
    "    elif operator == \"-\":\n",
    "        return num1-num2\n",
    "    elif operator == \"/\":\n",
    "        return num1/num2\n",
    "    elif operator == \".\":\n",
    "        return num1*num2\n",
    "    \n",
    "print(mathematics(num1,operator,num2))\n"
   ]
  },
  {
   "cell_type": "code",
   "execution_count": 10,
   "id": "d78cb71a",
   "metadata": {},
   "outputs": [
    {
     "name": "stdout",
     "output_type": "stream",
     "text": [
      "abcd\n",
      "aabbccdd"
     ]
    }
   ],
   "source": [
    "a = input()\n",
    "b = []\n",
    "for i in a:\n",
    "    b.append(i)\n",
    "q= []\n",
    "\n",
    "def name(a):\n",
    "    for j in b:\n",
    "        q.append(j)\n",
    "        q.append(j)\n",
    "\n",
    "    for i in q:\n",
    "        print(i, end=\"\")\n",
    "\n",
    "name(a)\n"
   ]
  },
  {
   "cell_type": "code",
   "execution_count": 14,
   "id": "5e01d612",
   "metadata": {},
   "outputs": [
    {
     "name": "stdout",
     "output_type": "stream",
     "text": [
      "1 2 3 4 5 6 7 8 9 10 11 12 13 14 15 16 17 18 19 20 21 22 23 24 24 25 27 28\n",
      "24\n"
     ]
    }
   ],
   "source": [
    "a = list(map(int,input().split(\" \")))\n",
    "def duplicate(a):\n",
    "    temp = 0\n",
    "    for i in range(len(a)):\n",
    "        for j in range(i+1,len(a)):\n",
    "            if a[i]==a[j]:\n",
    "                print(a[i])\n",
    "                temp = 1\n",
    "                break\n",
    "        if temp == 1:\n",
    "            break\n",
    "duplicate(a)"
   ]
  },
  {
   "cell_type": "code",
   "execution_count": 25,
   "id": "58ce4b4a",
   "metadata": {},
   "outputs": [
    {
     "name": "stdout",
     "output_type": "stream",
     "text": [
      "Enter the lower limit: 1\n",
      "Enter the upper limit: 28\n",
      "2 3 5 7 11 13 17 19 23 "
     ]
    }
   ],
   "source": [
    "lower_limit = int(input(\"Enter the lower limit: \"))\n",
    "upper_limit = int(input(\"Enter the upper limit: \"))\n",
    "\n",
    "def prime(lower,upper):\n",
    "    solution = []\n",
    "    temp = 0\n",
    "    if lower <= 2:\n",
    "        solution.append(2)\n",
    "        lower = 3\n",
    "    for i in range(lower,upper+1):\n",
    "        for j in range(2,i):\n",
    "            if i%j==0:\n",
    "                temp = 0\n",
    "                break\n",
    "            elif i%j != 0:\n",
    "                temp = 1\n",
    "        if temp == 1:\n",
    "            solution.append(i)\n",
    "    for i in solution:\n",
    "        print(i, end=\" \")\n",
    "        \n",
    "prime(lower_limit, upper_limit)"
   ]
  },
  {
   "cell_type": "code",
   "execution_count": 42,
   "id": "1965a865",
   "metadata": {},
   "outputs": [
    {
     "name": "stdout",
     "output_type": "stream",
     "text": [
      "28 1 28 0\n",
      "28\n"
     ]
    }
   ],
   "source": [
    "a = list(map(int,input().split(\" \")))\n",
    "def name(a):\n",
    "    maximum = 0\n",
    "    q = 0\n",
    "    for i in a:\n",
    "        b = a.count(i)\n",
    "        if b > maximum :\n",
    "            maximum = b\n",
    "            q = i\n",
    "    if maximum = 0:\n",
    "        return \"None\"\n",
    "    else:\n",
    "        return q\n",
    "\n",
    "print(name(a))\n"
   ]
  },
  {
   "cell_type": "code",
   "execution_count": 80,
   "id": "2cc3a989",
   "metadata": {},
   "outputs": [
    {
     "name": "stdout",
     "output_type": "stream",
     "text": [
      "a1a2a1a2a1a1a1a1a1a1a1a1a1a1a1a1a1a1a1a1a1a1a1a1a1a1\n",
      "28\n"
     ]
    }
   ],
   "source": [
    "a = input()\n",
    "def name(a):\n",
    "    b = []\n",
    "    q = [str(i) for i in range(1,11)]\n",
    "    for i in a:\n",
    "        if i in q:\n",
    "            b.append(int(i))\n",
    "    return(sum(b))\n",
    "print(name(a))\n"
   ]
  },
  {
   "cell_type": "code",
   "execution_count": 92,
   "id": "0d6b6095",
   "metadata": {},
   "outputs": [
    {
     "name": "stdout",
     "output_type": "stream",
     "text": [
      "qwertyui\n",
      "eiqrtuwy"
     ]
    }
   ],
   "source": [
    "a = input()\n",
    "def name(a):\n",
    "    b = [i for i in a]\n",
    "    b.sort()\n",
    "    for i in b:\n",
    "        print(i,end=\"\")\n",
    "name(a)\n"
   ]
  },
  {
   "cell_type": "code",
   "execution_count": 12,
   "id": "9422f924",
   "metadata": {},
   "outputs": [
    {
     "name": "stdout",
     "output_type": "stream",
     "text": [
      "a = 1\n",
      "b = 2\n",
      "a = 2, b = 1\n"
     ]
    }
   ],
   "source": [
    "a = int(input(\"a = \"))\n",
    "b = int(input(\"b = \"))\n",
    "\n",
    "def name(a,b):\n",
    "    a = a^b\n",
    "    b = a^b\n",
    "    a = a^b\n",
    "    return (\"a = {}, b = {}\".format(a,b))\n",
    "print(name(a,b))\n"
   ]
  }
 ],
 "metadata": {
  "kernelspec": {
   "display_name": "Python 3 (ipykernel)",
   "language": "python",
   "name": "python3"
  },
  "language_info": {
   "codemirror_mode": {
    "name": "ipython",
    "version": 3
   },
   "file_extension": ".py",
   "mimetype": "text/x-python",
   "name": "python",
   "nbconvert_exporter": "python",
   "pygments_lexer": "ipython3",
   "version": "3.10.0"
  }
 },
 "nbformat": 4,
 "nbformat_minor": 5
}
